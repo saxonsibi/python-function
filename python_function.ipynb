{
  "nbformat": 4,
  "nbformat_minor": 0,
  "metadata": {
    "colab": {
      "provenance": []
    },
    "kernelspec": {
      "name": "python3",
      "display_name": "Python 3"
    },
    "language_info": {
      "name": "python"
    }
  },
  "cells": [
    {
      "cell_type": "code",
      "execution_count": null,
      "metadata": {
        "id": "zHbHqJqGm2x0"
      },
      "outputs": [],
      "source": [
        "def Myfunction():\n",
        "  print(\"saxon\")"
      ]
    },
    {
      "cell_type": "code",
      "source": [
        "Myfunction()"
      ],
      "metadata": {
        "colab": {
          "base_uri": "https://localhost:8080/"
        },
        "id": "NE-3Xlk0pjyw",
        "outputId": "38fe58e8-eda6-4178-ed4d-ee7cbbc331b4"
      },
      "execution_count": null,
      "outputs": [
        {
          "output_type": "stream",
          "name": "stdout",
          "text": [
            "saxon\n"
          ]
        }
      ]
    },
    {
      "cell_type": "code",
      "source": [
        "def my_add(a,b):\n",
        "  print(a*b)"
      ],
      "metadata": {
        "id": "TCiFnN-RqzfG"
      },
      "execution_count": null,
      "outputs": []
    },
    {
      "cell_type": "code",
      "source": [
        "my_add(5,3)"
      ],
      "metadata": {
        "colab": {
          "base_uri": "https://localhost:8080/"
        },
        "id": "3E-YwiQhuqzt",
        "outputId": "68c96fe6-58bc-4430-9f24-b3bbb1df765b"
      },
      "execution_count": null,
      "outputs": [
        {
          "output_type": "stream",
          "name": "stdout",
          "text": [
            "15\n"
          ]
        }
      ]
    },
    {
      "cell_type": "code",
      "source": [
        "def data1(name):\n",
        "  print( name +\" Batch E\")\n",
        "data1(\"Saxon\")"
      ],
      "metadata": {
        "colab": {
          "base_uri": "https://localhost:8080/"
        },
        "id": "sSsB91a6wSKU",
        "outputId": "a03e5acb-221a-4268-c2ac-1604a6d62dff"
      },
      "execution_count": null,
      "outputs": [
        {
          "output_type": "stream",
          "name": "stdout",
          "text": [
            "Saxon Batch E\n"
          ]
        }
      ]
    },
    {
      "cell_type": "code",
      "source": [
        "def my_function(*fruits):\n",
        "  print(\"my favourite fruit is\",fruits[2])\n",
        "my_function(\"orange\",\"mango\",\"apple\",\"banana\")\n"
      ],
      "metadata": {
        "colab": {
          "base_uri": "https://localhost:8080/"
        },
        "id": "5zphRbAdyTxM",
        "outputId": "aded2fa8-73e2-40c6-aed4-c6b7f5a5c157"
      },
      "execution_count": null,
      "outputs": [
        {
          "output_type": "stream",
          "name": "stdout",
          "text": [
            "my favourite fruit is apple\n"
          ]
        }
      ]
    },
    {
      "cell_type": "code",
      "source": [
        "def my_sum(a,b):\n",
        "  print(a+b)\n",
        "my_sum(a=5,b=4)"
      ],
      "metadata": {
        "colab": {
          "base_uri": "https://localhost:8080/"
        },
        "id": "e2jmKpBoSSbC",
        "outputId": "37ae77e6-d880-4d9f-b6d3-263bc528676e"
      },
      "execution_count": null,
      "outputs": [
        {
          "output_type": "stream",
          "name": "stdout",
          "text": [
            "9\n"
          ]
        }
      ]
    },
    {
      "cell_type": "code",
      "source": [
        "def my_function(**c):\n",
        "  print(c[\"a\"]+c[\"b\"])\n",
        "my_function(a=1,b=2)"
      ],
      "metadata": {
        "colab": {
          "base_uri": "https://localhost:8080/"
        },
        "id": "9HLut3zPUT5h",
        "outputId": "35f532d5-28f4-4ab9-9b5f-e1b00fc84ff3"
      },
      "execution_count": null,
      "outputs": [
        {
          "output_type": "stream",
          "name": "stdout",
          "text": [
            "3\n"
          ]
        }
      ]
    },
    {
      "cell_type": "code",
      "source": [
        "def is_even(n):\n",
        "  for i in range(1,n+1):\n",
        "    if i%2==0:\n",
        "      print(i)\n",
        "is_even(20)"
      ],
      "metadata": {
        "colab": {
          "base_uri": "https://localhost:8080/"
        },
        "id": "dsl9tWQRfE64",
        "outputId": "a0e010c3-203e-4a75-cc42-6d69ce13f292"
      },
      "execution_count": null,
      "outputs": [
        {
          "output_type": "stream",
          "name": "stdout",
          "text": [
            "2\n",
            "4\n",
            "6\n",
            "8\n",
            "10\n",
            "12\n",
            "14\n",
            "16\n",
            "18\n",
            "20\n"
          ]
        }
      ]
    }
  ]
}